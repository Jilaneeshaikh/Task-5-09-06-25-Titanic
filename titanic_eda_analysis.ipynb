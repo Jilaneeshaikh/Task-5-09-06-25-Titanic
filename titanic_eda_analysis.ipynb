{
 "cells": [
  {
   "cell_type": "markdown",
   "id": "952a86bd",
   "metadata": {},
   "source": [
    "# 🚢 Titanic Dataset - Exploratory Data Analysis (EDA)\n",
    "Exploratory Data Analysis (EDA) on the Titanic dataset to identify trends and insights using Python."
   ]
  },
  {
   "cell_type": "code",
   "execution_count": null,
   "id": "3fa9e334",
   "metadata": {},
   "outputs": [],
   "source": [
    "import pandas as pd\n",
    "import matplotlib.pyplot as plt\n",
    "import seaborn as sns\n",
    "%matplotlib inline"
   ]
  },
  {
   "cell_type": "code",
   "execution_count": null,
   "id": "ddf18cbc",
   "metadata": {},
   "outputs": [],
   "source": [
    "df = pd.read_csv(\"../data/train.csv\")"
   ]
  },
  {
   "cell_type": "code",
   "execution_count": null,
   "id": "28a9f938",
   "metadata": {},
   "outputs": [],
   "source": [
    "print(\"--- INFO ---\")\n",
    "print(df.info())\n",
    "print(\"\\n--- DESCRIBE ---\")\n",
    "print(df.describe())\n",
    "print(\"\\n--- VALUE COUNTS (Survived) ---\")\n",
    "print(df['Survived'].value_counts())"
   ]
  },
  {
   "cell_type": "code",
   "execution_count": null,
   "id": "9ea19489",
   "metadata": {},
   "outputs": [],
   "source": [
    "sns.pairplot(df[['Survived', 'Pclass', 'Age', 'Fare']], hue='Survived')\n",
    "plt.suptitle(\"Pairplot of Numerical Features\", y=1.02)\n",
    "plt.show()"
   ]
  },
  {
   "cell_type": "code",
   "execution_count": null,
   "id": "b54b20c4",
   "metadata": {},
   "outputs": [],
   "source": [
    "plt.figure(figsize=(10, 6))\n",
    "sns.heatmap(df.corr(), annot=True, cmap='coolwarm')\n",
    "plt.title(\"Correlation Heatmap\")\n",
    "plt.show()"
   ]
  },
  {
   "cell_type": "code",
   "execution_count": null,
   "id": "bb625261",
   "metadata": {},
   "outputs": [],
   "source": [
    "sns.countplot(x='Sex', hue='Survived', data=df)\n",
    "plt.title(\"Survival by Sex\")\n",
    "plt.show()\n",
    "\n",
    "sns.countplot(x='Pclass', hue='Survived', data=df)\n",
    "plt.title(\"Survival by Passenger Class\")\n",
    "plt.show()"
   ]
  },
  {
   "cell_type": "code",
   "execution_count": null,
   "id": "78ac6f11",
   "metadata": {},
   "outputs": [],
   "source": [
    "df['Age'].hist(bins=30, edgecolor='black')\n",
    "plt.title(\"Age Distribution\")\n",
    "plt.xlabel(\"Age\")\n",
    "plt.ylabel(\"Frequency\")\n",
    "plt.show()"
   ]
  },
  {
   "cell_type": "code",
   "execution_count": null,
   "id": "89d313b0",
   "metadata": {},
   "outputs": [],
   "source": [
    "sns.boxplot(x='Survived', y='Age', data=df)\n",
    "plt.title(\"Age vs Survived\")\n",
    "plt.show()"
   ]
  },
  {
   "cell_type": "code",
   "execution_count": null,
   "id": "db5c3fc9",
   "metadata": {},
   "outputs": [],
   "source": [
    "sns.scatterplot(x='Age', y='Fare', hue='Survived', data=df)\n",
    "plt.title(\"Fare vs Age (Colored by Survival)\")\n",
    "plt.show()"
   ]
  },
  {
   "cell_type": "markdown",
   "id": "68995039",
   "metadata": {},
   "source": [
    "## 📌 Summary of Findings\n",
    "- **Females** and **1st class passengers** had higher survival chances.\n",
    "- `Fare` is positively correlated with survival.\n",
    "- Survivors tended to be younger and paid higher fares.\n",
    "- Missing data in `Age` and `Cabin` needs handling.\n",
    "\n",
    "### 🔄 Next Steps\n",
    "- Impute missing values\n",
    "- Create new features like `Title`, `FamilySize`\n",
    "- Build predictive models (Logistic Regression, Random Forest, etc.)"
   ]
  }
 ],
 "metadata": {},
 "nbformat": 4,
 "nbformat_minor": 5
}
